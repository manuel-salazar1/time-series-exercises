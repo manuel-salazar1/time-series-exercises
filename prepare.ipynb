{
 "cells": [
  {
   "cell_type": "markdown",
   "id": "7fd9ee45-0f88-4205-a11f-7362b460bad4",
   "metadata": {},
   "source": [
    "#### Imports"
   ]
  },
  {
   "cell_type": "code",
   "execution_count": 1,
   "id": "5cc591f5-2093-40ef-9457-c5fc2b47315a",
   "metadata": {},
   "outputs": [],
   "source": [
    "import pandas as pd\n",
    "import numpy as np\n",
    "\n",
    "import matplotlib.pyplot as plt\n",
    "import seaborn as sns"
   ]
  },
  {
   "cell_type": "markdown",
   "id": "a6e960a7-3611-4d14-a0be-7e842f9abf71",
   "metadata": {},
   "source": [
    "# Exercises"
   ]
  },
  {
   "cell_type": "markdown",
   "id": "9ee32bc3-a0f3-4369-9916-350c5c5f31f6",
   "metadata": {},
   "source": [
    "The end result of this exercise should be a file named prepare.py.\n",
    "\n",
    "Using your store items data:\n",
    "\n",
    "1. Convert date column to datetime format.\n"
   ]
  },
  {
   "cell_type": "code",
   "execution_count": 2,
   "id": "153ec6ff-31ea-4b96-871e-370202ca9d48",
   "metadata": {},
   "outputs": [],
   "source": [
    "#load my csv\n",
    "df = pd.read_csv('ts_superstore.csv', index_col=0)"
   ]
  },
  {
   "cell_type": "code",
   "execution_count": null,
   "id": "1409f3b5-fab7-4374-a854-f135a6a4561e",
   "metadata": {},
   "outputs": [],
   "source": [
    "df.info()"
   ]
  },
  {
   "cell_type": "code",
   "execution_count": null,
   "id": "e0747e9e-a6e6-4b83-99dc-5540b8925daa",
   "metadata": {},
   "outputs": [],
   "source": [
    "df.sale_date"
   ]
  },
  {
   "cell_type": "code",
   "execution_count": null,
   "id": "87cb33e4-e1b5-4f70-889f-49cedf252ac0",
   "metadata": {},
   "outputs": [],
   "source": [
    "df.sale_date = df.sale_date.str.replace(' 00:00:00 GMT', '')"
   ]
  },
  {
   "cell_type": "code",
   "execution_count": null,
   "id": "2c3d75bf-bb5b-4731-9521-9739cb4391a8",
   "metadata": {},
   "outputs": [],
   "source": [
    "df.sale_date[0]"
   ]
  },
  {
   "cell_type": "code",
   "execution_count": null,
   "id": "f596cf34-b2f8-4fa7-93a3-7796973586c6",
   "metadata": {},
   "outputs": [],
   "source": [
    "df.sale_date = pd.to_datetime(df.sale_date, format='%a, %d %b %Y')"
   ]
  },
  {
   "cell_type": "code",
   "execution_count": null,
   "id": "133afbc0-ca8d-4bd6-a692-722028504692",
   "metadata": {},
   "outputs": [],
   "source": [
    "df.sale_date"
   ]
  },
  {
   "cell_type": "markdown",
   "id": "24f2f436-98d3-42d0-a408-8328200d8668",
   "metadata": {},
   "source": [
    "2. Plot the distribution of sale_amount and item_price.\n"
   ]
  },
  {
   "cell_type": "code",
   "execution_count": null,
   "id": "bdd03c29-bab3-4f61-9953-56f0c0aa65cc",
   "metadata": {},
   "outputs": [],
   "source": [
    "df.sale_amount"
   ]
  },
  {
   "cell_type": "code",
   "execution_count": null,
   "id": "721659a9-a436-4bd9-9da0-9a2fbebd3323",
   "metadata": {},
   "outputs": [],
   "source": [
    "plt.hist(df.sale_amount)\n",
    "plt.show()"
   ]
  },
  {
   "cell_type": "code",
   "execution_count": null,
   "id": "2fd83122-37e7-4bc3-a2e2-7938bc1757b4",
   "metadata": {},
   "outputs": [],
   "source": [
    "df.item_price.max()"
   ]
  },
  {
   "cell_type": "code",
   "execution_count": null,
   "id": "3339b064-a5e9-4af0-851c-c7c330c47821",
   "metadata": {},
   "outputs": [],
   "source": [
    "plt.hist(df.item_price)\n",
    "plt.show()"
   ]
  },
  {
   "cell_type": "markdown",
   "id": "f75bea5c-b58d-4786-b529-c849f3a5fd45",
   "metadata": {},
   "source": [
    "3. Set the index to be the datetime variable.\n"
   ]
  },
  {
   "cell_type": "code",
   "execution_count": null,
   "id": "0a000b15-854e-4c40-a3e4-4b47add62a22",
   "metadata": {},
   "outputs": [],
   "source": [
    "df = df.set_index('sale_date')"
   ]
  },
  {
   "cell_type": "code",
   "execution_count": null,
   "id": "f6049c9d-e57d-4341-b73b-a2cf3a455f7a",
   "metadata": {},
   "outputs": [],
   "source": [
    "df = df.sort_index"
   ]
  },
  {
   "cell_type": "code",
   "execution_count": null,
   "id": "7e97c229-17d5-4a96-89df-ebe6a9a0719e",
   "metadata": {},
   "outputs": [],
   "source": [
    "df.head()"
   ]
  },
  {
   "cell_type": "markdown",
   "id": "d97e4aeb-c810-4a49-93d0-18c76147dd20",
   "metadata": {},
   "source": [
    "4. Add a 'month' and 'day of week' column to your dataframe.\n"
   ]
  },
  {
   "cell_type": "code",
   "execution_count": null,
   "id": "b9c2972f-52e7-40ad-966c-ba3efdc52017",
   "metadata": {},
   "outputs": [],
   "source": [
    "df['month'] = df.index.month"
   ]
  },
  {
   "cell_type": "code",
   "execution_count": null,
   "id": "b0b62a0f-4966-4863-a2c7-f5971e1ac03e",
   "metadata": {},
   "outputs": [],
   "source": [
    "df['day_of_week'] = df.index.day_of_week"
   ]
  },
  {
   "cell_type": "code",
   "execution_count": null,
   "id": "bad0d182-17af-4ce4-af46-193ac1e97278",
   "metadata": {},
   "outputs": [],
   "source": [
    "df['weekday'] = df.index.day_name()"
   ]
  },
  {
   "cell_type": "code",
   "execution_count": null,
   "id": "633251dc-5ba4-454c-9a20-f7036785cefb",
   "metadata": {},
   "outputs": [],
   "source": [
    "df.head()"
   ]
  },
  {
   "cell_type": "markdown",
   "id": "b249c7c8-8a82-4970-ba37-f292f4439859",
   "metadata": {},
   "source": [
    "5. Add a column to your dataframe, sales_total, which is a derived from sale_amount (total items) and item_price.\n"
   ]
  },
  {
   "cell_type": "code",
   "execution_count": null,
   "id": "b1de3c64-2959-4404-a481-e8a8fcc684ed",
   "metadata": {},
   "outputs": [],
   "source": [
    "df['sales_total'] = df.sale_amount * df.item_price"
   ]
  },
  {
   "cell_type": "code",
   "execution_count": null,
   "id": "479fefc3-e6cd-45f7-b7b3-92971969955f",
   "metadata": {},
   "outputs": [],
   "source": [
    "df.head()"
   ]
  },
  {
   "cell_type": "markdown",
   "id": "956cc969-86cd-4b48-8d68-7412b9f2dff8",
   "metadata": {},
   "source": [
    "#### Using the OPS data acquired in the Acquire exercises opsd_germany_daily.csv, complete the following:"
   ]
  },
  {
   "cell_type": "code",
   "execution_count": 6,
   "id": "e4b0fef8-5eae-4c1f-9780-0c150cb7dbbd",
   "metadata": {},
   "outputs": [],
   "source": [
    "url = \"https://raw.githubusercontent.com/jenfly/opsd/master/opsd_germany_daily.csv\"\n",
    "germ_df = pd.read_csv(url)"
   ]
  },
  {
   "cell_type": "code",
   "execution_count": null,
   "id": "e1e3877c-2918-40f8-b28a-40402a6d111a",
   "metadata": {},
   "outputs": [],
   "source": [
    "germ_df.info()"
   ]
  },
  {
   "cell_type": "markdown",
   "id": "18f1e771-5bb4-476b-a8e6-240e74433e0f",
   "metadata": {},
   "source": [
    "1. Convert date column to datetime format.\n"
   ]
  },
  {
   "cell_type": "code",
   "execution_count": null,
   "id": "b3505874-bd02-4799-9033-5741c518bb30",
   "metadata": {},
   "outputs": [],
   "source": [
    "germ_df.Date"
   ]
  },
  {
   "cell_type": "code",
   "execution_count": null,
   "id": "b71a7e0e-a92f-4840-b0bd-50d61411bf8e",
   "metadata": {},
   "outputs": [],
   "source": [
    "germ_df.Date = pd.to_datetime(germ_df.Date, format='%Y-%m-%d')"
   ]
  },
  {
   "cell_type": "code",
   "execution_count": null,
   "id": "e2822550-5852-4bcb-87b6-b0a1e3e598ad",
   "metadata": {},
   "outputs": [],
   "source": [
    "germ_df.info()"
   ]
  },
  {
   "cell_type": "code",
   "execution_count": null,
   "id": "3f5023bd-c34e-46dc-ae0d-c58da320342a",
   "metadata": {},
   "outputs": [],
   "source": [
    "germ_df.head()"
   ]
  },
  {
   "cell_type": "markdown",
   "id": "4f6ee0ea-7fcb-4bb1-9361-852c40a753b2",
   "metadata": {},
   "source": [
    "2. Plot the distribution of each of your variables.\n"
   ]
  },
  {
   "cell_type": "code",
   "execution_count": null,
   "id": "0869b319-2858-4f06-bebf-e6b476ccbc6f",
   "metadata": {},
   "outputs": [],
   "source": [
    "plt.hist(germ_df.Wind)\n",
    "plt.show()"
   ]
  },
  {
   "cell_type": "code",
   "execution_count": null,
   "id": "2f4436b9-3139-4fc2-afa8-e5a3a461b18f",
   "metadata": {},
   "outputs": [],
   "source": [
    "plt.hist(germ_df.Solar)\n",
    "plt.show()"
   ]
  },
  {
   "cell_type": "code",
   "execution_count": null,
   "id": "733c143c-77b6-4efa-aa04-68940d0850ad",
   "metadata": {},
   "outputs": [],
   "source": [
    "plt.hist(germ_df['Wind+Solar'])\n",
    "plt.show()"
   ]
  },
  {
   "cell_type": "code",
   "execution_count": null,
   "id": "197a23a0-03a8-4cec-9726-b54e5e03a2c9",
   "metadata": {},
   "outputs": [],
   "source": []
  },
  {
   "cell_type": "markdown",
   "id": "1056f707-1f96-417c-8a76-36f85a1a1fc7",
   "metadata": {},
   "source": [
    "3. Set the index to be the datetime variable.\n"
   ]
  },
  {
   "cell_type": "code",
   "execution_count": null,
   "id": "91e442d9-1c4d-473c-8fe6-1587da0e9d7e",
   "metadata": {},
   "outputs": [],
   "source": [
    "germ_df.columns = germ_df.columns.str.lower()"
   ]
  },
  {
   "cell_type": "code",
   "execution_count": null,
   "id": "b4218b00-b66f-45b4-8d64-c8db6b8acf79",
   "metadata": {},
   "outputs": [],
   "source": [
    "germ_df.head()"
   ]
  },
  {
   "cell_type": "code",
   "execution_count": null,
   "id": "40c2e9da-1c73-40a2-a6a4-ef1a068396f9",
   "metadata": {},
   "outputs": [],
   "source": [
    "germ_df.set_index('date')"
   ]
  },
  {
   "cell_type": "code",
   "execution_count": null,
   "id": "73117463-75f1-45cf-9bed-99c9457c5058",
   "metadata": {},
   "outputs": [],
   "source": [
    "germ_df = germ_df.set_index('date')"
   ]
  },
  {
   "cell_type": "code",
   "execution_count": null,
   "id": "13041949-f968-4410-9770-0df96305d0f6",
   "metadata": {},
   "outputs": [],
   "source": [
    "germ_df.head()"
   ]
  },
  {
   "cell_type": "markdown",
   "id": "3fb9d7d2-60ec-4048-a082-53480eacd5f7",
   "metadata": {},
   "source": [
    "4. Add a month and a year column to your dataframe.\n"
   ]
  },
  {
   "cell_type": "code",
   "execution_count": null,
   "id": "09fc436a-3d66-4f66-b942-032545c5f80a",
   "metadata": {},
   "outputs": [],
   "source": [
    "germ_df['month'] = germ_df.index.month"
   ]
  },
  {
   "cell_type": "code",
   "execution_count": null,
   "id": "5c677aab-d45e-4c95-a204-412bfd9b0326",
   "metadata": {},
   "outputs": [],
   "source": [
    "germ_df['year'] = germ_df.index.year"
   ]
  },
  {
   "cell_type": "code",
   "execution_count": null,
   "id": "e2ae6b95-c849-4880-8ccb-f370183c6c3c",
   "metadata": {},
   "outputs": [],
   "source": [
    "germ_df"
   ]
  },
  {
   "cell_type": "markdown",
   "id": "35f0a614-557d-4919-afe5-93b1b11623f6",
   "metadata": {},
   "source": [
    "5. Fill any missing values.\n"
   ]
  },
  {
   "cell_type": "code",
   "execution_count": null,
   "id": "a3fbab7d-7a36-4b1f-b49d-d2882228ee7a",
   "metadata": {},
   "outputs": [],
   "source": [
    "germ_df.isnull().sum()"
   ]
  },
  {
   "cell_type": "code",
   "execution_count": null,
   "id": "6283c8aa-1169-4b42-afe6-7852ec3c46a9",
   "metadata": {},
   "outputs": [],
   "source": [
    "germ_df = germ_df.fillna(0)"
   ]
  },
  {
   "cell_type": "code",
   "execution_count": null,
   "id": "a7aa4a1f-1eb8-425c-a5ee-175b7ccb320f",
   "metadata": {},
   "outputs": [],
   "source": [
    "germ_df"
   ]
  },
  {
   "cell_type": "markdown",
   "id": "76d5357e-ead8-4913-9c05-1c28f776ed05",
   "metadata": {},
   "source": [
    "6. Make sure all the work that you have done above is reproducible. That is, you should put the code above into separate functions and be able to re-run the functions and get the same results."
   ]
  },
  {
   "cell_type": "code",
   "execution_count": 3,
   "id": "dfdbbc46-04ed-4817-8a00-c8f5d9094a54",
   "metadata": {},
   "outputs": [],
   "source": [
    "def superstore_prep(df):\n",
    "    '''\n",
    "    Input: df\n",
    "    Output: df with updates to sale_date, added month/dayofweek/weekday and sales_total columns\n",
    "    '''\n",
    "    # dropping time since it is the exact same for each row\n",
    "    df.sale_date = df.sale_date.str.replace(' 00:00:00 GMT', '')\n",
    "    # format date to display yyyy-mm-dd\n",
    "    df.sale_date = pd.to_datetime(df.sale_date, format='%a, %d %b %Y')\n",
    "    # reset index to have datetime\n",
    "    df = df.set_index('sale_date')\n",
    "    df = df.sort_index()\n",
    "    # add month and day of week columns\n",
    "    df['month'] = df.index.month\n",
    "    df['day_of_week'] = df.index.day_of_week\n",
    "    df['weekday'] = df.index.day_name()\n",
    "    # create column for sales_total using sale_amount and item_price\n",
    "    df['sales_total'] = df.sale_amount * df.item_price\n",
    "    return df"
   ]
  },
  {
   "cell_type": "code",
   "execution_count": 4,
   "id": "7730dd8d-dfde-4d88-8f78-dfc18309c98d",
   "metadata": {},
   "outputs": [],
   "source": [
    "df = superstore_prep(df)"
   ]
  },
  {
   "cell_type": "code",
   "execution_count": 5,
   "id": "4b7235d7-42b0-4398-bcc2-a51017a858b9",
   "metadata": {},
   "outputs": [
    {
     "data": {
      "text/html": [
       "<div>\n",
       "<style scoped>\n",
       "    .dataframe tbody tr th:only-of-type {\n",
       "        vertical-align: middle;\n",
       "    }\n",
       "\n",
       "    .dataframe tbody tr th {\n",
       "        vertical-align: top;\n",
       "    }\n",
       "\n",
       "    .dataframe thead th {\n",
       "        text-align: right;\n",
       "    }\n",
       "</style>\n",
       "<table border=\"1\" class=\"dataframe\">\n",
       "  <thead>\n",
       "    <tr style=\"text-align: right;\">\n",
       "      <th></th>\n",
       "      <th>item</th>\n",
       "      <th>sale_amount</th>\n",
       "      <th>sale_id</th>\n",
       "      <th>store</th>\n",
       "      <th>item_brand</th>\n",
       "      <th>item_id</th>\n",
       "      <th>item_name</th>\n",
       "      <th>item_price</th>\n",
       "      <th>item_upc12</th>\n",
       "      <th>item_upc14</th>\n",
       "      <th>store_address</th>\n",
       "      <th>store_city</th>\n",
       "      <th>store_id</th>\n",
       "      <th>store_state</th>\n",
       "      <th>store_zipcode</th>\n",
       "      <th>month</th>\n",
       "      <th>day_of_week</th>\n",
       "      <th>weekday</th>\n",
       "      <th>sales_total</th>\n",
       "    </tr>\n",
       "    <tr>\n",
       "      <th>sale_date</th>\n",
       "      <th></th>\n",
       "      <th></th>\n",
       "      <th></th>\n",
       "      <th></th>\n",
       "      <th></th>\n",
       "      <th></th>\n",
       "      <th></th>\n",
       "      <th></th>\n",
       "      <th></th>\n",
       "      <th></th>\n",
       "      <th></th>\n",
       "      <th></th>\n",
       "      <th></th>\n",
       "      <th></th>\n",
       "      <th></th>\n",
       "      <th></th>\n",
       "      <th></th>\n",
       "      <th></th>\n",
       "      <th></th>\n",
       "    </tr>\n",
       "  </thead>\n",
       "  <tbody>\n",
       "    <tr>\n",
       "      <th>2013-01-01</th>\n",
       "      <td>1</td>\n",
       "      <td>13.0</td>\n",
       "      <td>1</td>\n",
       "      <td>1</td>\n",
       "      <td>Riceland</td>\n",
       "      <td>1</td>\n",
       "      <td>Riceland American Jazmine Rice</td>\n",
       "      <td>0.84</td>\n",
       "      <td>35200264013</td>\n",
       "      <td>35200264013</td>\n",
       "      <td>12125 Alamo Ranch Pkwy</td>\n",
       "      <td>San Antonio</td>\n",
       "      <td>1</td>\n",
       "      <td>TX</td>\n",
       "      <td>78253</td>\n",
       "      <td>1</td>\n",
       "      <td>1</td>\n",
       "      <td>Tuesday</td>\n",
       "      <td>10.92</td>\n",
       "    </tr>\n",
       "    <tr>\n",
       "      <th>2013-01-02</th>\n",
       "      <td>1</td>\n",
       "      <td>11.0</td>\n",
       "      <td>2</td>\n",
       "      <td>1</td>\n",
       "      <td>Riceland</td>\n",
       "      <td>1</td>\n",
       "      <td>Riceland American Jazmine Rice</td>\n",
       "      <td>0.84</td>\n",
       "      <td>35200264013</td>\n",
       "      <td>35200264013</td>\n",
       "      <td>12125 Alamo Ranch Pkwy</td>\n",
       "      <td>San Antonio</td>\n",
       "      <td>1</td>\n",
       "      <td>TX</td>\n",
       "      <td>78253</td>\n",
       "      <td>1</td>\n",
       "      <td>2</td>\n",
       "      <td>Wednesday</td>\n",
       "      <td>9.24</td>\n",
       "    </tr>\n",
       "    <tr>\n",
       "      <th>2013-01-03</th>\n",
       "      <td>1</td>\n",
       "      <td>14.0</td>\n",
       "      <td>3</td>\n",
       "      <td>1</td>\n",
       "      <td>Riceland</td>\n",
       "      <td>1</td>\n",
       "      <td>Riceland American Jazmine Rice</td>\n",
       "      <td>0.84</td>\n",
       "      <td>35200264013</td>\n",
       "      <td>35200264013</td>\n",
       "      <td>12125 Alamo Ranch Pkwy</td>\n",
       "      <td>San Antonio</td>\n",
       "      <td>1</td>\n",
       "      <td>TX</td>\n",
       "      <td>78253</td>\n",
       "      <td>1</td>\n",
       "      <td>3</td>\n",
       "      <td>Thursday</td>\n",
       "      <td>11.76</td>\n",
       "    </tr>\n",
       "    <tr>\n",
       "      <th>2013-01-04</th>\n",
       "      <td>1</td>\n",
       "      <td>13.0</td>\n",
       "      <td>4</td>\n",
       "      <td>1</td>\n",
       "      <td>Riceland</td>\n",
       "      <td>1</td>\n",
       "      <td>Riceland American Jazmine Rice</td>\n",
       "      <td>0.84</td>\n",
       "      <td>35200264013</td>\n",
       "      <td>35200264013</td>\n",
       "      <td>12125 Alamo Ranch Pkwy</td>\n",
       "      <td>San Antonio</td>\n",
       "      <td>1</td>\n",
       "      <td>TX</td>\n",
       "      <td>78253</td>\n",
       "      <td>1</td>\n",
       "      <td>4</td>\n",
       "      <td>Friday</td>\n",
       "      <td>10.92</td>\n",
       "    </tr>\n",
       "    <tr>\n",
       "      <th>2013-01-05</th>\n",
       "      <td>1</td>\n",
       "      <td>10.0</td>\n",
       "      <td>5</td>\n",
       "      <td>1</td>\n",
       "      <td>Riceland</td>\n",
       "      <td>1</td>\n",
       "      <td>Riceland American Jazmine Rice</td>\n",
       "      <td>0.84</td>\n",
       "      <td>35200264013</td>\n",
       "      <td>35200264013</td>\n",
       "      <td>12125 Alamo Ranch Pkwy</td>\n",
       "      <td>San Antonio</td>\n",
       "      <td>1</td>\n",
       "      <td>TX</td>\n",
       "      <td>78253</td>\n",
       "      <td>1</td>\n",
       "      <td>5</td>\n",
       "      <td>Saturday</td>\n",
       "      <td>8.40</td>\n",
       "    </tr>\n",
       "    <tr>\n",
       "      <th>...</th>\n",
       "      <td>...</td>\n",
       "      <td>...</td>\n",
       "      <td>...</td>\n",
       "      <td>...</td>\n",
       "      <td>...</td>\n",
       "      <td>...</td>\n",
       "      <td>...</td>\n",
       "      <td>...</td>\n",
       "      <td>...</td>\n",
       "      <td>...</td>\n",
       "      <td>...</td>\n",
       "      <td>...</td>\n",
       "      <td>...</td>\n",
       "      <td>...</td>\n",
       "      <td>...</td>\n",
       "      <td>...</td>\n",
       "      <td>...</td>\n",
       "      <td>...</td>\n",
       "      <td>...</td>\n",
       "    </tr>\n",
       "    <tr>\n",
       "      <th>2017-12-27</th>\n",
       "      <td>50</td>\n",
       "      <td>63.0</td>\n",
       "      <td>912996</td>\n",
       "      <td>10</td>\n",
       "      <td>Choice</td>\n",
       "      <td>50</td>\n",
       "      <td>Choice Organic Teas Black Tea Classic Black - ...</td>\n",
       "      <td>5.20</td>\n",
       "      <td>47445919221</td>\n",
       "      <td>47445919221</td>\n",
       "      <td>8503 NW Military Hwy</td>\n",
       "      <td>San Antonio</td>\n",
       "      <td>10</td>\n",
       "      <td>TX</td>\n",
       "      <td>78231</td>\n",
       "      <td>12</td>\n",
       "      <td>2</td>\n",
       "      <td>Wednesday</td>\n",
       "      <td>327.60</td>\n",
       "    </tr>\n",
       "    <tr>\n",
       "      <th>2017-12-28</th>\n",
       "      <td>50</td>\n",
       "      <td>59.0</td>\n",
       "      <td>912997</td>\n",
       "      <td>10</td>\n",
       "      <td>Choice</td>\n",
       "      <td>50</td>\n",
       "      <td>Choice Organic Teas Black Tea Classic Black - ...</td>\n",
       "      <td>5.20</td>\n",
       "      <td>47445919221</td>\n",
       "      <td>47445919221</td>\n",
       "      <td>8503 NW Military Hwy</td>\n",
       "      <td>San Antonio</td>\n",
       "      <td>10</td>\n",
       "      <td>TX</td>\n",
       "      <td>78231</td>\n",
       "      <td>12</td>\n",
       "      <td>3</td>\n",
       "      <td>Thursday</td>\n",
       "      <td>306.80</td>\n",
       "    </tr>\n",
       "    <tr>\n",
       "      <th>2017-12-29</th>\n",
       "      <td>50</td>\n",
       "      <td>74.0</td>\n",
       "      <td>912998</td>\n",
       "      <td>10</td>\n",
       "      <td>Choice</td>\n",
       "      <td>50</td>\n",
       "      <td>Choice Organic Teas Black Tea Classic Black - ...</td>\n",
       "      <td>5.20</td>\n",
       "      <td>47445919221</td>\n",
       "      <td>47445919221</td>\n",
       "      <td>8503 NW Military Hwy</td>\n",
       "      <td>San Antonio</td>\n",
       "      <td>10</td>\n",
       "      <td>TX</td>\n",
       "      <td>78231</td>\n",
       "      <td>12</td>\n",
       "      <td>4</td>\n",
       "      <td>Friday</td>\n",
       "      <td>384.80</td>\n",
       "    </tr>\n",
       "    <tr>\n",
       "      <th>2017-12-30</th>\n",
       "      <td>50</td>\n",
       "      <td>62.0</td>\n",
       "      <td>912999</td>\n",
       "      <td>10</td>\n",
       "      <td>Choice</td>\n",
       "      <td>50</td>\n",
       "      <td>Choice Organic Teas Black Tea Classic Black - ...</td>\n",
       "      <td>5.20</td>\n",
       "      <td>47445919221</td>\n",
       "      <td>47445919221</td>\n",
       "      <td>8503 NW Military Hwy</td>\n",
       "      <td>San Antonio</td>\n",
       "      <td>10</td>\n",
       "      <td>TX</td>\n",
       "      <td>78231</td>\n",
       "      <td>12</td>\n",
       "      <td>5</td>\n",
       "      <td>Saturday</td>\n",
       "      <td>322.40</td>\n",
       "    </tr>\n",
       "    <tr>\n",
       "      <th>2017-12-31</th>\n",
       "      <td>50</td>\n",
       "      <td>82.0</td>\n",
       "      <td>913000</td>\n",
       "      <td>10</td>\n",
       "      <td>Choice</td>\n",
       "      <td>50</td>\n",
       "      <td>Choice Organic Teas Black Tea Classic Black - ...</td>\n",
       "      <td>5.20</td>\n",
       "      <td>47445919221</td>\n",
       "      <td>47445919221</td>\n",
       "      <td>8503 NW Military Hwy</td>\n",
       "      <td>San Antonio</td>\n",
       "      <td>10</td>\n",
       "      <td>TX</td>\n",
       "      <td>78231</td>\n",
       "      <td>12</td>\n",
       "      <td>6</td>\n",
       "      <td>Sunday</td>\n",
       "      <td>426.40</td>\n",
       "    </tr>\n",
       "  </tbody>\n",
       "</table>\n",
       "<p>913000 rows × 19 columns</p>\n",
       "</div>"
      ],
      "text/plain": [
       "            item  sale_amount  sale_id  store item_brand  item_id  \\\n",
       "sale_date                                                           \n",
       "2013-01-01     1         13.0        1      1   Riceland        1   \n",
       "2013-01-02     1         11.0        2      1   Riceland        1   \n",
       "2013-01-03     1         14.0        3      1   Riceland        1   \n",
       "2013-01-04     1         13.0        4      1   Riceland        1   \n",
       "2013-01-05     1         10.0        5      1   Riceland        1   \n",
       "...          ...          ...      ...    ...        ...      ...   \n",
       "2017-12-27    50         63.0   912996     10     Choice       50   \n",
       "2017-12-28    50         59.0   912997     10     Choice       50   \n",
       "2017-12-29    50         74.0   912998     10     Choice       50   \n",
       "2017-12-30    50         62.0   912999     10     Choice       50   \n",
       "2017-12-31    50         82.0   913000     10     Choice       50   \n",
       "\n",
       "                                                    item_name  item_price  \\\n",
       "sale_date                                                                   \n",
       "2013-01-01                     Riceland American Jazmine Rice        0.84   \n",
       "2013-01-02                     Riceland American Jazmine Rice        0.84   \n",
       "2013-01-03                     Riceland American Jazmine Rice        0.84   \n",
       "2013-01-04                     Riceland American Jazmine Rice        0.84   \n",
       "2013-01-05                     Riceland American Jazmine Rice        0.84   \n",
       "...                                                       ...         ...   \n",
       "2017-12-27  Choice Organic Teas Black Tea Classic Black - ...        5.20   \n",
       "2017-12-28  Choice Organic Teas Black Tea Classic Black - ...        5.20   \n",
       "2017-12-29  Choice Organic Teas Black Tea Classic Black - ...        5.20   \n",
       "2017-12-30  Choice Organic Teas Black Tea Classic Black - ...        5.20   \n",
       "2017-12-31  Choice Organic Teas Black Tea Classic Black - ...        5.20   \n",
       "\n",
       "             item_upc12   item_upc14           store_address   store_city  \\\n",
       "sale_date                                                                   \n",
       "2013-01-01  35200264013  35200264013  12125 Alamo Ranch Pkwy  San Antonio   \n",
       "2013-01-02  35200264013  35200264013  12125 Alamo Ranch Pkwy  San Antonio   \n",
       "2013-01-03  35200264013  35200264013  12125 Alamo Ranch Pkwy  San Antonio   \n",
       "2013-01-04  35200264013  35200264013  12125 Alamo Ranch Pkwy  San Antonio   \n",
       "2013-01-05  35200264013  35200264013  12125 Alamo Ranch Pkwy  San Antonio   \n",
       "...                 ...          ...                     ...          ...   \n",
       "2017-12-27  47445919221  47445919221    8503 NW Military Hwy  San Antonio   \n",
       "2017-12-28  47445919221  47445919221    8503 NW Military Hwy  San Antonio   \n",
       "2017-12-29  47445919221  47445919221    8503 NW Military Hwy  San Antonio   \n",
       "2017-12-30  47445919221  47445919221    8503 NW Military Hwy  San Antonio   \n",
       "2017-12-31  47445919221  47445919221    8503 NW Military Hwy  San Antonio   \n",
       "\n",
       "            store_id store_state  store_zipcode  month  day_of_week  \\\n",
       "sale_date                                                             \n",
       "2013-01-01         1          TX          78253      1            1   \n",
       "2013-01-02         1          TX          78253      1            2   \n",
       "2013-01-03         1          TX          78253      1            3   \n",
       "2013-01-04         1          TX          78253      1            4   \n",
       "2013-01-05         1          TX          78253      1            5   \n",
       "...              ...         ...            ...    ...          ...   \n",
       "2017-12-27        10          TX          78231     12            2   \n",
       "2017-12-28        10          TX          78231     12            3   \n",
       "2017-12-29        10          TX          78231     12            4   \n",
       "2017-12-30        10          TX          78231     12            5   \n",
       "2017-12-31        10          TX          78231     12            6   \n",
       "\n",
       "              weekday  sales_total  \n",
       "sale_date                           \n",
       "2013-01-01    Tuesday        10.92  \n",
       "2013-01-02  Wednesday         9.24  \n",
       "2013-01-03   Thursday        11.76  \n",
       "2013-01-04     Friday        10.92  \n",
       "2013-01-05   Saturday         8.40  \n",
       "...               ...          ...  \n",
       "2017-12-27  Wednesday       327.60  \n",
       "2017-12-28   Thursday       306.80  \n",
       "2017-12-29     Friday       384.80  \n",
       "2017-12-30   Saturday       322.40  \n",
       "2017-12-31     Sunday       426.40  \n",
       "\n",
       "[913000 rows x 19 columns]"
      ]
     },
     "execution_count": 5,
     "metadata": {},
     "output_type": "execute_result"
    }
   ],
   "source": [
    "df"
   ]
  },
  {
   "cell_type": "code",
   "execution_count": 9,
   "id": "77a9f4ea-c6c3-48cd-bad3-fe7119ec9ac2",
   "metadata": {},
   "outputs": [],
   "source": [
    "def opsd_germ_prep(df):\n",
    "    '''\n",
    "    locate file here if you don't have it saved already\n",
    "    url = \"https://raw.githubusercontent.com/jenfly/opsd/master/opsd_germany_daily.csv\"\n",
    "    df = pd.read_csv(url)\n",
    "    Input: df\n",
    "    Output: df with updates to date, added month/year, filled nulls\n",
    "    '''\n",
    "    # convert column names to lower\n",
    "    df.columns = df.columns.str.lower()\n",
    "    # convert date column to datetime format\n",
    "    df.date = pd.to_datetime(df.date, format='%Y-%m-%d')\n",
    "    # set index to datetime\n",
    "    df = df.set_index('date')\n",
    "    df = df.sort_index()\n",
    "    # add month and year column to df\n",
    "    df['month'] = df.index.month\n",
    "    df['year'] = df.index.year\n",
    "    # fill nulls with 0\n",
    "    df = df.fillna(0)\n",
    "    return df"
   ]
  },
  {
   "cell_type": "code",
   "execution_count": 10,
   "id": "3f895127-5577-48ba-bf53-9b5d0f172854",
   "metadata": {},
   "outputs": [],
   "source": [
    "germ_df = opsd_germ_prep(germ_df)"
   ]
  },
  {
   "cell_type": "code",
   "execution_count": 11,
   "id": "01a41ce6-4009-4f92-8ec8-55a1c4e3e324",
   "metadata": {},
   "outputs": [
    {
     "data": {
      "text/html": [
       "<div>\n",
       "<style scoped>\n",
       "    .dataframe tbody tr th:only-of-type {\n",
       "        vertical-align: middle;\n",
       "    }\n",
       "\n",
       "    .dataframe tbody tr th {\n",
       "        vertical-align: top;\n",
       "    }\n",
       "\n",
       "    .dataframe thead th {\n",
       "        text-align: right;\n",
       "    }\n",
       "</style>\n",
       "<table border=\"1\" class=\"dataframe\">\n",
       "  <thead>\n",
       "    <tr style=\"text-align: right;\">\n",
       "      <th></th>\n",
       "      <th>consumption</th>\n",
       "      <th>wind</th>\n",
       "      <th>solar</th>\n",
       "      <th>wind+solar</th>\n",
       "      <th>month</th>\n",
       "      <th>year</th>\n",
       "    </tr>\n",
       "    <tr>\n",
       "      <th>date</th>\n",
       "      <th></th>\n",
       "      <th></th>\n",
       "      <th></th>\n",
       "      <th></th>\n",
       "      <th></th>\n",
       "      <th></th>\n",
       "    </tr>\n",
       "  </thead>\n",
       "  <tbody>\n",
       "    <tr>\n",
       "      <th>2006-01-01</th>\n",
       "      <td>1069.18400</td>\n",
       "      <td>0.000</td>\n",
       "      <td>0.000</td>\n",
       "      <td>0.000</td>\n",
       "      <td>1</td>\n",
       "      <td>2006</td>\n",
       "    </tr>\n",
       "    <tr>\n",
       "      <th>2006-01-02</th>\n",
       "      <td>1380.52100</td>\n",
       "      <td>0.000</td>\n",
       "      <td>0.000</td>\n",
       "      <td>0.000</td>\n",
       "      <td>1</td>\n",
       "      <td>2006</td>\n",
       "    </tr>\n",
       "    <tr>\n",
       "      <th>2006-01-03</th>\n",
       "      <td>1442.53300</td>\n",
       "      <td>0.000</td>\n",
       "      <td>0.000</td>\n",
       "      <td>0.000</td>\n",
       "      <td>1</td>\n",
       "      <td>2006</td>\n",
       "    </tr>\n",
       "    <tr>\n",
       "      <th>2006-01-04</th>\n",
       "      <td>1457.21700</td>\n",
       "      <td>0.000</td>\n",
       "      <td>0.000</td>\n",
       "      <td>0.000</td>\n",
       "      <td>1</td>\n",
       "      <td>2006</td>\n",
       "    </tr>\n",
       "    <tr>\n",
       "      <th>2006-01-05</th>\n",
       "      <td>1477.13100</td>\n",
       "      <td>0.000</td>\n",
       "      <td>0.000</td>\n",
       "      <td>0.000</td>\n",
       "      <td>1</td>\n",
       "      <td>2006</td>\n",
       "    </tr>\n",
       "    <tr>\n",
       "      <th>...</th>\n",
       "      <td>...</td>\n",
       "      <td>...</td>\n",
       "      <td>...</td>\n",
       "      <td>...</td>\n",
       "      <td>...</td>\n",
       "      <td>...</td>\n",
       "    </tr>\n",
       "    <tr>\n",
       "      <th>2017-12-27</th>\n",
       "      <td>1263.94091</td>\n",
       "      <td>394.507</td>\n",
       "      <td>16.530</td>\n",
       "      <td>411.037</td>\n",
       "      <td>12</td>\n",
       "      <td>2017</td>\n",
       "    </tr>\n",
       "    <tr>\n",
       "      <th>2017-12-28</th>\n",
       "      <td>1299.86398</td>\n",
       "      <td>506.424</td>\n",
       "      <td>14.162</td>\n",
       "      <td>520.586</td>\n",
       "      <td>12</td>\n",
       "      <td>2017</td>\n",
       "    </tr>\n",
       "    <tr>\n",
       "      <th>2017-12-29</th>\n",
       "      <td>1295.08753</td>\n",
       "      <td>584.277</td>\n",
       "      <td>29.854</td>\n",
       "      <td>614.131</td>\n",
       "      <td>12</td>\n",
       "      <td>2017</td>\n",
       "    </tr>\n",
       "    <tr>\n",
       "      <th>2017-12-30</th>\n",
       "      <td>1215.44897</td>\n",
       "      <td>721.247</td>\n",
       "      <td>7.467</td>\n",
       "      <td>728.714</td>\n",
       "      <td>12</td>\n",
       "      <td>2017</td>\n",
       "    </tr>\n",
       "    <tr>\n",
       "      <th>2017-12-31</th>\n",
       "      <td>1107.11488</td>\n",
       "      <td>721.176</td>\n",
       "      <td>19.980</td>\n",
       "      <td>741.156</td>\n",
       "      <td>12</td>\n",
       "      <td>2017</td>\n",
       "    </tr>\n",
       "  </tbody>\n",
       "</table>\n",
       "<p>4383 rows × 6 columns</p>\n",
       "</div>"
      ],
      "text/plain": [
       "            consumption     wind   solar  wind+solar  month  year\n",
       "date                                                             \n",
       "2006-01-01   1069.18400    0.000   0.000       0.000      1  2006\n",
       "2006-01-02   1380.52100    0.000   0.000       0.000      1  2006\n",
       "2006-01-03   1442.53300    0.000   0.000       0.000      1  2006\n",
       "2006-01-04   1457.21700    0.000   0.000       0.000      1  2006\n",
       "2006-01-05   1477.13100    0.000   0.000       0.000      1  2006\n",
       "...                 ...      ...     ...         ...    ...   ...\n",
       "2017-12-27   1263.94091  394.507  16.530     411.037     12  2017\n",
       "2017-12-28   1299.86398  506.424  14.162     520.586     12  2017\n",
       "2017-12-29   1295.08753  584.277  29.854     614.131     12  2017\n",
       "2017-12-30   1215.44897  721.247   7.467     728.714     12  2017\n",
       "2017-12-31   1107.11488  721.176  19.980     741.156     12  2017\n",
       "\n",
       "[4383 rows x 6 columns]"
      ]
     },
     "execution_count": 11,
     "metadata": {},
     "output_type": "execute_result"
    }
   ],
   "source": [
    "germ_df"
   ]
  },
  {
   "cell_type": "code",
   "execution_count": null,
   "id": "a83f1f79-6783-49c0-b5f2-bb56cc4b0a34",
   "metadata": {},
   "outputs": [],
   "source": []
  },
  {
   "cell_type": "code",
   "execution_count": 15,
   "id": "00e77520-3dfb-4ac2-bce2-7cf7598d8be8",
   "metadata": {},
   "outputs": [],
   "source": [
    "def prep_info():\n",
    "    '''\n",
    "    Need to know what is in here?\n",
    "    '''\n",
    "    print(f'''This file houses the following functions:\n",
    "superstore_prep()\n",
    "opsd_germ_prep()''')"
   ]
  },
  {
   "cell_type": "code",
   "execution_count": 16,
   "id": "9a108057-7fa6-4ae5-9fca-a96a7745f6f3",
   "metadata": {},
   "outputs": [
    {
     "name": "stdout",
     "output_type": "stream",
     "text": [
      "This file houses the following functions:\n",
      "superstore_prep()\n",
      "opsd_germ_prep()\n"
     ]
    }
   ],
   "source": [
    "prep_info()"
   ]
  },
  {
   "cell_type": "code",
   "execution_count": 17,
   "id": "ce232e38-1122-4e60-800d-4f98d0882cc6",
   "metadata": {},
   "outputs": [],
   "source": [
    "def acquire_info():\n",
    "    '''\n",
    "    Need to know what is in here?\n",
    "    '''\n",
    "    print(f'''This file houses the following functions:\n",
    "get_germany_data()\n",
    "get_swapi_data(endpoint)''')"
   ]
  },
  {
   "cell_type": "code",
   "execution_count": 18,
   "id": "0eb20e15-5ae0-4bcd-8818-5d2b0fe69861",
   "metadata": {},
   "outputs": [
    {
     "name": "stdout",
     "output_type": "stream",
     "text": [
      "This file houses the following functions:\n",
      "get_germany_data()\n",
      "get_swapi_data(endpoint)\n"
     ]
    }
   ],
   "source": [
    "acquire_info()"
   ]
  }
 ],
 "metadata": {
  "kernelspec": {
   "display_name": "Python 3 (ipykernel)",
   "language": "python",
   "name": "python3"
  },
  "language_info": {
   "codemirror_mode": {
    "name": "ipython",
    "version": 3
   },
   "file_extension": ".py",
   "mimetype": "text/x-python",
   "name": "python",
   "nbconvert_exporter": "python",
   "pygments_lexer": "ipython3",
   "version": "3.9.13"
  }
 },
 "nbformat": 4,
 "nbformat_minor": 5
}
